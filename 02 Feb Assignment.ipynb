{
 "cells": [
  {
   "cell_type": "markdown",
   "id": "23154f25",
   "metadata": {},
   "source": [
    "Q1. What are the characteristics of the tuples? Is tuple immutable?"
   ]
  },
  {
   "cell_type": "code",
   "execution_count": 1,
   "id": "85833df9",
   "metadata": {},
   "outputs": [],
   "source": [
    "# Yes tuple is immutable, means we can not modify tuple once created"
   ]
  },
  {
   "cell_type": "markdown",
   "id": "a8f2aece",
   "metadata": {},
   "source": [
    "Q2. What are the two tuple methods in python? Give an example of each method. Give a reason why\n",
    "tuples have only two in-built methods as compared to Lists."
   ]
  },
  {
   "cell_type": "code",
   "execution_count": 2,
   "id": "f8000dc3",
   "metadata": {},
   "outputs": [],
   "source": [
    "#  there are two built-in methods specifically designed for tuples:\n",
    "#         1. count(): This method returns the number of times a specified element appears in a tuple.\n",
    "#         2. index(): This method returns the index of the first occurrence of a specified element in a tuple.\n",
    "#         The reason tuples have only these two built-in methods compared to lists is that tuples are immutable,\n",
    "#         while lists are mutable. Immutability means that once a tuple is created, \n",
    "#         its elements cannot be modified. Since tuples are designed to be used as fixed collections of items, \n",
    "#         there is no need for methods like append(), insert(), or remove() which modify the tuple's contents. \n",
    "#         The limited set of methods for tuples reflects their intended usage as immutable sequences. \n",
    "#         Lists, on the other hand, have more methods because they allow for dynamic changes in their size and contents.\n",
    "    "
   ]
  },
  {
   "cell_type": "markdown",
   "id": "752bc0c3",
   "metadata": {},
   "source": [
    "Q3. Which collection datatypes in python do not allow duplicate items? Write a code using a set to remove\n",
    "duplicates from the given list."
   ]
  },
  {
   "cell_type": "code",
   "execution_count": 3,
   "id": "d101f56b",
   "metadata": {},
   "outputs": [
    {
     "name": "stdout",
     "output_type": "stream",
     "text": [
      "[1, 2, 3, 4]\n"
     ]
    }
   ],
   "source": [
    "# the collection data type that does not allow duplicate items is a set. A set is an unordered collection of unique elements.\n",
    "\n",
    "# Here's an example code that uses a set to remove duplicates from a given list:\n",
    "\n",
    "my_list = [1, 1, 1, 2, 1, 3, 1, 4, 2, 1, 2, 2, 2, 3, 2, 4, 3, 1, 3, 2, 3, 3, 3, 4, 4, 1, 4, 2, 4, 3, 4, 4]\n",
    "\n",
    "# Convert the list to a set to remove duplicates\n",
    "unique_elements = set(my_list)\n",
    "\n",
    "# Convert the set back to a list (if needed)\n",
    "result_list = list(unique_elements)\n",
    "\n",
    "print(result_list)"
   ]
  },
  {
   "cell_type": "markdown",
   "id": "b28a62ee",
   "metadata": {},
   "source": [
    "Q4. Explain the difference between the union() and update() methods for a set. Give an example of\n",
    "each method."
   ]
  },
  {
   "cell_type": "code",
   "execution_count": 4,
   "id": "9d87e27a",
   "metadata": {},
   "outputs": [
    {
     "name": "stdout",
     "output_type": "stream",
     "text": [
      "{1, 2, 3, 4, 5, 6, 7}\n",
      "{1, 2, 3}\n",
      "{1, 2, 3, 4, 5}\n",
      "{1, 2, 3, 4, 5, 6, 7}\n"
     ]
    }
   ],
   "source": [
    "# union() method:\n",
    "\n",
    "# The union() method returns a new set that contains all the unique elements from two or more sets.\n",
    "# It does not modify the original sets; instead, it creates and returns a new set.\n",
    "# The original sets remain unchanged.\n",
    "\n",
    "# Example:\n",
    "set1 = {1, 2, 3}\n",
    "set2 = {3, 4, 5}\n",
    "set3 = {5, 6, 7}\n",
    "\n",
    "union_set = set1.union(set2, set3)\n",
    "print(union_set)  # Output: {1, 2, 3, 4, 5, 6, 7}\n",
    "print(set1)      # Output: {1, 2, 3} (original set1 is unchanged)\n",
    "\n",
    "# update() method:\n",
    "\n",
    "# The update() method modifies a set by adding all the elements from another set or an iterable (such as a list or tuple) into it.\n",
    "# It performs an in-place operation and modifies the original set.\n",
    "# The elements from the other set or iterable are added to the original set, and any duplicates are automatically removed.\n",
    "\n",
    "set1 = {1, 2, 3}\n",
    "set2 = {3, 4, 5}\n",
    "\n",
    "set1.update(set2)\n",
    "print(set1)  # Output: {1, 2, 3, 4, 5} (set1 is modified)\n",
    "\n",
    "set3 = {5, 6, 7}\n",
    "set1.update(set3)\n",
    "print(set1)  # Output: {1, 2, 3, 4, 5, 6, 7} (set1 is further modified)\n",
    "\n",
    "# In the example above, union() is used to create a new set union_set that contains all the unique elements from set1, set2,\n",
    "# and set3. The original sets set1, set2, and set3 remain unchanged.\n",
    "\n",
    "# On the other hand, update() is used to modify the original set set1 by adding all the elements \n",
    "# from set2 and set3 to it. The duplicates are automatically removed, and the modified set is stored in set1.\n",
    "\n",
    "# In summary, union() returns a new set containing the union of multiple sets, \n",
    "# while update() modifies a set by adding elements from other sets or iterables in-place."
   ]
  },
  {
   "cell_type": "markdown",
   "id": "08d6b435",
   "metadata": {},
   "source": [
    "Q5. What is a dictionary? Give an example. Also, state whether a dictionary is ordered or unordered."
   ]
  },
  {
   "cell_type": "code",
   "execution_count": 5,
   "id": "ae2aa705",
   "metadata": {},
   "outputs": [],
   "source": [
    "# Dictionary is built-in data type that represents collection of key value pairs, that means with the help of Dictionary\n",
    "# we can store key and associated value for that key, where key is uniue and can only immutable\n",
    "# data type like tuple, string, and integer.\n",
    "\n",
    "# With the help of dictionary we can store and retrieve key value pair very efficiently, internally it uses hashing technique\n",
    "# to store unique key, hence worst case time complexity to store and retrive is O(1) for dictionary\n",
    "\n",
    "# Regarding the order of element, It's important to note that dictionaries in Python 3.7 and later version maintains the order of \n",
    "# insertion of key-value pairs. before Python 3.7 dictionaries were unordered."
   ]
  },
  {
   "cell_type": "markdown",
   "id": "42ebd5c1",
   "metadata": {},
   "source": [
    "Q6. Can we create a nested dictionary? If so, please give an example by creating a simple one-level\n",
    "nested dictionary."
   ]
  },
  {
   "cell_type": "code",
   "execution_count": 6,
   "id": "b2978a40",
   "metadata": {},
   "outputs": [
    {
     "data": {
      "text/plain": [
       "{'my_key': 'my_value', 'my_second_key': {'inner_key': 'inner_value'}}"
      ]
     },
     "execution_count": 6,
     "metadata": {},
     "output_type": "execute_result"
    }
   ],
   "source": [
    "# Yes, we can create a nested dictionary\n",
    "# Example\n",
    "my_dict = { \"my_key\": \"my_value\", \"my_second_key\": { \"inner_key\": \"inner_value\" }}\n",
    "\n",
    "my_dict"
   ]
  },
  {
   "cell_type": "code",
   "execution_count": 7,
   "id": "bd00bb90",
   "metadata": {},
   "outputs": [
    {
     "data": {
      "text/plain": [
       "'inner_value'"
      ]
     },
     "execution_count": 7,
     "metadata": {},
     "output_type": "execute_result"
    }
   ],
   "source": [
    "# To access value we just need to pass keys in hirarchical order, suppose we want to retrive value from nested dictionary\n",
    "# first we need to retrive that inner dictionary by passing key of that dictionary, and as a result/value \n",
    "# we will get inner dictionary, and on top of that we can pass inner key to retrive inner value from previous result\n",
    "\n",
    "my_dict['my_second_key']['inner_key']"
   ]
  },
  {
   "cell_type": "markdown",
   "id": "a3ced1fd",
   "metadata": {},
   "source": [
    "Q7. Using setdefault() method, create key named topics in the given dictionary and also add the value of\n",
    "the key as this list ['Python', 'Machine Learning’, 'Deep Learning']\n",
    "\n",
    "dict1 = {'language' : 'Python', 'course': 'Data Science Masters'}"
   ]
  },
  {
   "cell_type": "code",
   "execution_count": 8,
   "id": "7ba0d784",
   "metadata": {},
   "outputs": [
    {
     "data": {
      "text/plain": [
       "{'language': 'Python',\n",
       " 'course': 'Data Science Masters',\n",
       " 'topics': ['Python', 'Machine Learning', 'Deep Learning']}"
      ]
     },
     "execution_count": 8,
     "metadata": {},
     "output_type": "execute_result"
    }
   ],
   "source": [
    "dict1 = {'language' : 'Python', 'course': 'Data Science Masters'}\n",
    "dict1['topics'] = ['Python', 'Machine Learning', 'Deep Learning']\n",
    "dict1"
   ]
  },
  {
   "cell_type": "markdown",
   "id": "a515ad2b",
   "metadata": {},
   "source": [
    "Q8. What are the three view objects in dictionaries? Use the three in-built methods in python to display\n",
    "these three view objects for the given dictionary."
   ]
  },
  {
   "cell_type": "code",
   "execution_count": 9,
   "id": "b16c547a",
   "metadata": {},
   "outputs": [
    {
     "name": "stdout",
     "output_type": "stream",
     "text": [
      "['Sport', 'Teams']\n",
      "['Cricket', ['India', 'Australia', 'England', 'South Africa', 'Sri Lanka', 'New Zealand']]\n",
      "[('Sport', 'Cricket'), ('Teams', ['India', 'Australia', 'England', 'South Africa', 'Sri Lanka', 'New Zealand'])]\n"
     ]
    }
   ],
   "source": [
    "# Dictionaries have three built-in view objects that provide dynamic views of the dictionary's keys, values, \n",
    "# and key-value pairs. The three view objects are:\n",
    "\n",
    "# dict.keys(): This method returns a view object that contains the keys of the dictionary.\n",
    "\n",
    "# dict.values(): This method returns a view object that contains the values of the dictionary.\n",
    "\n",
    "# dict.items(): This method returns a view object that contains the key-value pairs of the dictionary as tuples.\n",
    "\n",
    "dict1 = {'Sport': 'Cricket' , 'Teams': ['India', 'Australia', 'England', 'South Africa', 'Sri Lanka', 'New Zealand']}\n",
    "\n",
    "print(list(key for key in dict1.keys()))\n",
    "print(list(value for value in dict1.values()))\n",
    "print(list((key, val) for key, val in dict1.items()))\n"
   ]
  }
 ],
 "metadata": {
  "kernelspec": {
   "display_name": "Python 3",
   "language": "python",
   "name": "python3"
  },
  "language_info": {
   "codemirror_mode": {
    "name": "ipython",
    "version": 3
   },
   "file_extension": ".py",
   "mimetype": "text/x-python",
   "name": "python",
   "nbconvert_exporter": "python",
   "pygments_lexer": "ipython3",
   "version": "3.10.9"
  }
 },
 "nbformat": 4,
 "nbformat_minor": 5
}
